{
 "cells": [
  {
   "cell_type": "code",
   "execution_count": 1,
   "metadata": {},
   "outputs": [],
   "source": [
    "from aligned import FileSource\n",
    "import polars as pl\n",
    "import os"
   ]
  },
  {
   "cell_type": "code",
   "execution_count": 2,
   "metadata": {},
   "outputs": [],
   "source": [
    "# Need to run from the root folder, because we use a relative file source\n",
    "os.chdir(\"../\")"
   ]
  },
  {
   "attachments": {},
   "cell_type": "markdown",
   "metadata": {},
   "source": [
    "## Load Our Feature Definitions"
   ]
  },
  {
   "cell_type": "code",
   "execution_count": 3,
   "metadata": {},
   "outputs": [],
   "source": [
    "store = await FileSource.json_at(\"feature-store.json\").feature_store()"
   ]
  },
  {
   "attachments": {},
   "cell_type": "markdown",
   "metadata": {},
   "source": [
    "## Select the samples to train on - aka. our entity ids"
   ]
  },
  {
   "cell_type": "code",
   "execution_count": 4,
   "metadata": {},
   "outputs": [],
   "source": [
    "entities = pl.scan_parquet(\"data/loan_table.parquet\").select([\n",
    "    pl.col(\"loan_id\"),\n",
    "    pl.col(\"dob_ssn\"),\n",
    "    pl.col(\"zipcode\"),\n",
    "    pl.col(\"event_timestamp\")\n",
    "]).collect().to_dict(as_series=False)"
   ]
  },
  {
   "attachments": {},
   "cell_type": "markdown",
   "metadata": {},
   "source": [
    "## Train the model"
   ]
  },
  {
   "cell_type": "code",
   "execution_count": 5,
   "metadata": {},
   "outputs": [
    {
     "name": "stderr",
     "output_type": "stream",
     "text": [
      "/Users/matsmollestad/Desktop/PersonalProj/aligned-example/loan_example/model.py:59: SettingWithCopyWarning: \n",
      "A value is trying to be set on a copy of a slice from a DataFrame.\n",
      "Try using .loc[row_indexer,col_indexer] = value instead\n",
      "\n",
      "See the caveats in the documentation: https://pandas.pydata.org/pandas-docs/stable/user_guide/indexing.html#returning-a-view-versus-a-copy\n",
      "  training_data.data[self.categorical_features] = self.encoder.transform(\n"
     ]
    }
   ],
   "source": [
    "from loan_example.model import CreditScoringModel\n",
    "\n",
    "model = CreditScoringModel(store.model(\"credit_scoring\"))\n",
    "await model.train(entities)"
   ]
  },
  {
   "attachments": {},
   "cell_type": "markdown",
   "metadata": {},
   "source": [
    "## Stor Our Model to Disk"
   ]
  },
  {
   "cell_type": "code",
   "execution_count": 6,
   "metadata": {},
   "outputs": [],
   "source": [
    "# And store it back in the loan folder\n",
    "model.dump_model(\"loan_example/model.bin\", \"loan_example/encoder.bin\")"
   ]
  },
  {
   "attachments": {},
   "cell_type": "markdown",
   "metadata": {},
   "source": [
    "## Predict Using the Batch Source"
   ]
  },
  {
   "cell_type": "code",
   "execution_count": 7,
   "metadata": {},
   "outputs": [
    {
     "data": {
      "text/plain": [
       "array([1.])"
      ]
     },
     "execution_count": 7,
     "metadata": {},
     "output_type": "execute_result"
    }
   ],
   "source": [
    "from datetime import datetime\n",
    "\n",
    "prediction_entity = {\n",
    "    \"zipcode\": [76104],\n",
    "    \"dob_ssn\": [\"19630621_4278\"],\n",
    "    \"loan_id\": [None],\n",
    "    \"event_timestamp\": [datetime.now()],\n",
    "    \"person_age\": [133],\n",
    "    \"person_income\": [59000],\n",
    "    \"person_home_ownership\": [\"RENT\"],\n",
    "    \"person_emp_length\": [123.0],\n",
    "    \"loan_intent\": [\"PERSONAL\"],\n",
    "    \"loan_amount\": [35000],\n",
    "    \"loan_int_rate\": [16.02],\n",
    "}\n",
    "await model.predict(prediction_entity)"
   ]
  },
  {
   "cell_type": "markdown",
   "metadata": {},
   "source": [
    "## Fill our Online Source with Features"
   ]
  },
  {
   "cell_type": "markdown",
   "metadata": {},
   "source": [
    "### Create a new feature store with the online source that we prefer"
   ]
  },
  {
   "cell_type": "code",
   "execution_count": 8,
   "metadata": {},
   "outputs": [],
   "source": [
    "from aligned import RedisConfig\n",
    "\n",
    "online_store = store.with_source(RedisConfig.localhost())"
   ]
  },
  {
   "attachments": {},
   "cell_type": "markdown",
   "metadata": {},
   "source": [
    "### Select the entity ids to materialise the source with"
   ]
  },
  {
   "cell_type": "code",
   "execution_count": 9,
   "metadata": {},
   "outputs": [],
   "source": [
    "zipcodes = pl.scan_parquet(\"data/zipcode_table.parquet\").select([\n",
    "    pl.col(\"zipcode\"),\n",
    "    pl.col(\"event_timestamp\")\n",
    "]).unique(subset=\"zipcode\", keep=\"last\").collect().to_dict(as_series=False)\n",
    "\n",
    "credit_history = pl.scan_parquet(\"data/credit_history.parquet\").select([\n",
    "    pl.col(\"dob_ssn\"),\n",
    "    pl.col(\"event_timestamp\")\n",
    "]).unique(subset=\"dob_ssn\", keep=\"last\").collect().to_dict()"
   ]
  },
  {
   "attachments": {},
   "cell_type": "markdown",
   "metadata": {},
   "source": [
    "### Load, compute and fill our `zipcode_feature` and `credit_history` features"
   ]
  },
  {
   "cell_type": "code",
   "execution_count": 10,
   "metadata": {},
   "outputs": [],
   "source": [
    "await online_store.feature_view(\"zipcode_features\").batch_write(\n",
    "    store.feature_view(\"zipcode_features\").features_for(zipcodes)\n",
    ")"
   ]
  },
  {
   "cell_type": "code",
   "execution_count": 11,
   "metadata": {},
   "outputs": [],
   "source": [
    "await online_store.feature_view(\"credit_history\").batch_write(\n",
    "    store.feature_view(\"credit_history\").features_for(credit_history)\n",
    ")"
   ]
  },
  {
   "cell_type": "markdown",
   "metadata": {},
   "source": [
    "### Let's load some features in our Online Source"
   ]
  },
  {
   "cell_type": "code",
   "execution_count": 12,
   "metadata": {},
   "outputs": [
    {
     "data": {
      "text/html": [
       "<div>\n",
       "<style scoped>\n",
       "    .dataframe tbody tr th:only-of-type {\n",
       "        vertical-align: middle;\n",
       "    }\n",
       "\n",
       "    .dataframe tbody tr th {\n",
       "        vertical-align: top;\n",
       "    }\n",
       "\n",
       "    .dataframe thead th {\n",
       "        text-align: right;\n",
       "    }\n",
       "</style>\n",
       "<table border=\"1\" class=\"dataframe\">\n",
       "  <thead>\n",
       "    <tr style=\"text-align: right;\">\n",
       "      <th></th>\n",
       "      <th>state</th>\n",
       "      <th>bankruptcies</th>\n",
       "      <th>missed_payments_2y</th>\n",
       "      <th>hard_pulls</th>\n",
       "      <th>credit_card_due</th>\n",
       "      <th>person_age</th>\n",
       "      <th>event_timestamp</th>\n",
       "      <th>total_wages</th>\n",
       "      <th>student_loan_due</th>\n",
       "      <th>loan_int_rate</th>\n",
       "      <th>...</th>\n",
       "      <th>person_emp_length</th>\n",
       "      <th>vehicle_loan_due</th>\n",
       "      <th>missed_payments_6m</th>\n",
       "      <th>is_primary_location</th>\n",
       "      <th>loan_id</th>\n",
       "      <th>zipcode</th>\n",
       "      <th>mortgage_due</th>\n",
       "      <th>loan_amount</th>\n",
       "      <th>loan_intent_ordinal</th>\n",
       "      <th>person_home_ownership_ordinal</th>\n",
       "    </tr>\n",
       "  </thead>\n",
       "  <tbody>\n",
       "    <tr>\n",
       "      <th>0</th>\n",
       "      <td>TX</td>\n",
       "      <td>0</td>\n",
       "      <td>0</td>\n",
       "      <td>1</td>\n",
       "      <td>3343</td>\n",
       "      <td>133</td>\n",
       "      <td>2023-05-23 22:37:04.089483</td>\n",
       "      <td>142325465</td>\n",
       "      <td>44375</td>\n",
       "      <td>16.02</td>\n",
       "      <td>...</td>\n",
       "      <td>123.0</td>\n",
       "      <td>11506</td>\n",
       "      <td>0</td>\n",
       "      <td>True</td>\n",
       "      <td>NaN</td>\n",
       "      <td>76104</td>\n",
       "      <td>378847</td>\n",
       "      <td>35000</td>\n",
       "      <td>0</td>\n",
       "      <td>0</td>\n",
       "    </tr>\n",
       "  </tbody>\n",
       "</table>\n",
       "<p>1 rows × 25 columns</p>\n",
       "</div>"
      ],
      "text/plain": [
       "  state  bankruptcies  missed_payments_2y  hard_pulls  credit_card_due  \\\n",
       "0    TX             0                   0           1             3343   \n",
       "\n",
       "   person_age            event_timestamp  total_wages  student_loan_due  \\\n",
       "0         133 2023-05-23 22:37:04.089483    142325465             44375   \n",
       "\n",
       "   loan_int_rate  ...  person_emp_length vehicle_loan_due missed_payments_6m  \\\n",
       "0          16.02  ...              123.0            11506                  0   \n",
       "\n",
       "   is_primary_location  loan_id  zipcode  mortgage_due  loan_amount  \\\n",
       "0                 True      NaN    76104        378847        35000   \n",
       "\n",
       "   loan_intent_ordinal  person_home_ownership_ordinal  \n",
       "0                    0                              0  \n",
       "\n",
       "[1 rows x 25 columns]"
      ]
     },
     "execution_count": 12,
     "metadata": {},
     "output_type": "execute_result"
    }
   ],
   "source": [
    "await online_store.model(\"credit_scoring\").features_for(prediction_entity).to_pandas()"
   ]
  },
  {
   "cell_type": "code",
   "execution_count": null,
   "metadata": {},
   "outputs": [],
   "source": []
  }
 ],
 "metadata": {
  "kernelspec": {
   "display_name": "feature-store",
   "language": "python",
   "name": "python3"
  },
  "language_info": {
   "codemirror_mode": {
    "name": "ipython",
    "version": 3
   },
   "file_extension": ".py",
   "mimetype": "text/x-python",
   "name": "python",
   "nbconvert_exporter": "python",
   "pygments_lexer": "ipython3",
   "version": "3.10.0"
  },
  "orig_nbformat": 4
 },
 "nbformat": 4,
 "nbformat_minor": 2
}
